{
  "metadata": {
    "language_info": {
      "codemirror_mode": {
        "name": "python",
        "version": 3
      },
      "file_extension": ".py",
      "mimetype": "text/x-python",
      "name": "python",
      "nbconvert_exporter": "python",
      "pygments_lexer": "ipython3",
      "version": "3.8"
    },
    "kernelspec": {
      "name": "python",
      "display_name": "Python (Pyodide)",
      "language": "python"
    }
  },
  "nbformat_minor": 4,
  "nbformat": 4,
  "cells": [
    {
      "cell_type": "code",
      "source": "import numpy as np # linear algebra\nimport pandas as pd # for data preparation\nimport plotly.express as px # for data visualization\nfrom textblob import TextBlob # for sentiment analysis\n\ndff=pd.read_csv('netflix_titles.csv')\ndff.shape",
      "metadata": {},
      "execution_count": null,
      "outputs": []
    },
    {
      "cell_type": "code",
      "source": "dff.columns",
      "metadata": {},
      "execution_count": null,
      "outputs": []
    },
    {
      "cell_type": "code",
      "source": "z = dff.groupby(['rating']).size().reset_index(name='counts')\npieChart = px.pie(z, values='counts', names='rating', \n                  title='Distribution of Content Ratings on Netflix',\n                  color_discrete_sequence=px.colors.qualitative.Set3)\npieChart.show()",
      "metadata": {},
      "execution_count": null,
      "outputs": []
    },
    {
      "cell_type": "code",
      "source": "dff['director']=dff['director'].fillna('No Director Specified')\nfiltered_directors=pd.DataFrame()\nfiltered_directors=dff['director'].str.split(',',expand=True).stack()\nfiltered_directors=filtered_directors.to_frame()\nfiltered_directors.columns=['Director']\ndirectors=filtered_directors.groupby(['Director']).size().reset_index(name='Total Content')\ndirectors=directors[directors.Director !='No Director Specified']\ndirectors=directors.sort_values(by=['Total Content'],ascending=False)\ndirectorsTop5=directors.head()\ndirectorsTop5=directorsTop5.sort_values(by=['Total Content'])\nfig1=px.bar(directorsTop5,x='Total Content',y='Director',title='Top 5 Directors on Netflix')\nfig1.show()",
      "metadata": {},
      "execution_count": null,
      "outputs": []
    },
    {
      "cell_type": "code",
      "source": "dff['cast']=dff['cast'].fillna('No Cast Specified')\nfiltered_cast=pd.DataFrame()\nfiltered_cast=dff['cast'].str.split(',',expand=True).stack()\nfiltered_cast=filtered_cast.to_frame()\nfiltered_cast.columns=['Actor']\nactors=filtered_cast.groupby(['Actor']).size().reset_index(name='Total Content')\nactors=actors[actors.Actor !='No Cast Specified']\nactors=actors.sort_values(by=['Total Content'],ascending=False)\nactorsTop5=actors.head()\nactorsTop5=actorsTop5.sort_values(by=['Total Content'])\nfig2=px.bar(actorsTop5,x='Total Content',y='Actor', title='Top 5 Actors on Netflix')\nfig2.show()",
      "metadata": {},
      "execution_count": null,
      "outputs": []
    },
    {
      "cell_type": "code",
      "source": "df1=dff[['type','release_year']]\ndf1=df1.rename(columns={\"release_year\": \"Release Year\"})\ndf2=df1.groupby(['Release Year','type']).size().reset_index(name='Total Content')\ndf2=df2[df2['Release Year']>=2010]\nfig3 = px.line(df2, x=\"Release Year\", y=\"Total Content\", color='type',title='Trend of content produced over the years on Netflix')\nfig3.show()",
      "metadata": {},
      "execution_count": null,
      "outputs": []
    },
    {
      "cell_type": "code",
      "source": "dfx=dff[['release_year','description']]\ndfx=dfx.rename(columns={'release_year':'Release Year'})\nfor index,row in dfx.iterrows():\n    z=row['description']\n    testimonial=TextBlob(z)\n    p=testimonial.sentiment.polarity\n    if p==0:\n        sent='Neutral'\n    elif p>0:\n        sent='Positive'\n    else:\n        sent='Negative'\n    dfx.loc[[index,2],'Sentiment']=sent\n\n\ndfx=dfx.groupby(['Release Year','Sentiment']).size().reset_index(name='Total Content')\n\ndfx=dfx[dfx['Release Year']>=2010]\nfig4 = px.bar(dfx, x=\"Release Year\", y=\"Total Content\", color=\"Sentiment\", title=\"Sentiment of content on Netflix\")\nfig4.show()",
      "metadata": {},
      "execution_count": null,
      "outputs": []
    }
  ]
}